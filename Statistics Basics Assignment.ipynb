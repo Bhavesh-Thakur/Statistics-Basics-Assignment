{
  "nbformat": 4,
  "nbformat_minor": 0,
  "metadata": {
    "colab": {
      "provenance": []
    },
    "kernelspec": {
      "name": "python3",
      "display_name": "Python 3"
    },
    "language_info": {
      "name": "python"
    }
  },
  "cells": [
    {
      "cell_type": "markdown",
      "source": [
        "# 1. Explain the different types of data (qualitative and quantitative) and provide examples of each. Discuss nominal, ordinal, interval, and ratio scales.\n",
        "\n",
        "\n",
        "# Different Types of Data (Qualitative and Quantitative)\n",
        "\n",
        "Data can be broadly classified into two categories:\n",
        "\n",
        "### 1. **Qualitative (Categorical) Data:**\n",
        "   Qualitative data describes characteristics or attributes that cannot be measured in numbers. It is often divided into categories.\n",
        "   \n",
        "   **Examples:**\n",
        "   - **Nominal Data**: Gender (Male, Female), Eye Color (Brown, Blue)\n",
        "   - **Ordinal Data**: Satisfaction Levels (Satisfied, Neutral, Unsatisfied), Education Level (High School, Bachelor’s, Master’s)\n",
        "\n",
        "### 2. **Quantitative (Numerical) Data:**\n",
        "   Quantitative data represents values that are measurable and can be expressed in numbers.\n",
        "   \n",
        "   **Examples:**\n",
        "   - **Interval Data**: Temperature (in Celsius or Fahrenheit), IQ scores\n",
        "   - **Ratio Data**: Height, Weight, Age\n",
        "\n",
        "# Scales of Measurement\n",
        "\n",
        "Data can also be classified based on the scale of measurement:\n",
        "\n",
        "### 1. **Nominal Scale**:\n",
        "   - Represents categories without any order or ranking.\n",
        "   - **Example**: Gender (Male, Female), Types of Animals (Dog, Cat, Bird)\n",
        "\n",
        "### 2. **Ordinal Scale**:\n",
        "   - Represents categories with a meaningful order but without a fixed interval between categories.\n",
        "   - **Example**: Movie Ratings (1-star, 2-star, 3-star), Education Levels (High School, Bachelor’s, Master’s)\n",
        "\n",
        "### 3. **Interval Scale**:\n",
        "   - Represents ordered categories with equal intervals between values, but no true zero point.\n",
        "   - **Example**: Temperature (0°C is not the absence of temperature), Dates on a calendar\n",
        "\n",
        "### 4. **Ratio Scale**:\n",
        "   - Represents ordered categories with equal intervals and a true zero point, which allows for meaningful comparisons.\n",
        "   - **Example**: Weight (0 kg means no weight), Height, Income\n",
        "\n",
        "   ---\n",
        "\n",
        "#    2. What are the measures of central tendency, and when should you use each? Discuss the mean, median, and mode with examples and situations where each is appropriate\n",
        "\n",
        "# Measures of Central Tendency\n",
        "\n",
        "Measures of central tendency are statistical metrics that describe the center or typical value of a dataset. The most common measures are:\n",
        "\n",
        "### 1. **Mean**:\n",
        "   - The average of all the data points.\n",
        "   - **When to use**: When data is continuous and not skewed by extreme values (outliers).\n",
        "   - **Example**: Calculating the average salary of employees.\n",
        "\n",
        "### 2. **Median**:\n",
        "   - The middle value when data points are arranged in ascending or descending order.\n",
        "   - **When to use**: When data contains outliers or is skewed, as it is not affected by extreme values.\n",
        "   - **Example**: Finding the middle value of home prices in a city.\n",
        "\n",
        "### 3. **Mode**:\n",
        "   - The most frequent value in a dataset.\n",
        "   - **When to use**: When data is categorical or when you want to know the most common value.\n",
        "   - **Example**: Finding the most common shoe size sold in a store.\n",
        "\n",
        "\n",
        "\n"
      ],
      "metadata": {
        "id": "zAQdqVsZ6-Ng"
      }
    },
    {
      "cell_type": "code",
      "source": [
        "import numpy as np\n",
        "from scipy import stats\n",
        "\n",
        "# Sample data\n",
        "data = [10, 15, 20, 25, 25, 30, 35, 40, 40, 40, 50]\n",
        "\n",
        "# 1. Mean\n",
        "mean_value = np.mean(data)\n",
        "print(f\"Mean: {mean_value}\")\n",
        "\n",
        "# 2. Median\n",
        "median_value = np.median(data)\n",
        "print(f\"Median: {median_value}\")\n",
        "\n",
        "#3. Mode\n",
        "mode_value = stats.mode(data, keepdims=True)  # Ensure mode result is in array form\n",
        "print(f\"Mode: {mode_value.mode[0]} (Appears {mode_value.count[0]} times)\")"
      ],
      "metadata": {
        "colab": {
          "base_uri": "https://localhost:8080/"
        },
        "id": "C8xM9Y_Z8-ph",
        "outputId": "4fcc4b66-4013-4257-d97c-ed8ae04caa9a"
      },
      "execution_count": 10,
      "outputs": [
        {
          "output_type": "stream",
          "name": "stdout",
          "text": [
            "Mean: 30.0\n",
            "Median: 30.0\n",
            "Mode: 40 (Appears 3 times)\n"
          ]
        }
      ]
    },
    {
      "cell_type": "markdown",
      "source": [
        "# 3. Explain the concept of dispersion. How do variance and standard deviation measure the spread of data?\n",
        "\n",
        " # Concept of Dispersion\n",
        "\n",
        "**Dispersion** refers to the spread or variability of data points in a dataset. It tells us how much the data values deviate from the central tendency (mean, median, or mode). Understanding dispersion helps us gauge whether the data points are clustered closely or spread out over a wide range.\n",
        "\n",
        "Two common measures of dispersion are **variance** and **standard deviation**.\n",
        "\n",
        "### 1. **Variance**:\n",
        "   Variance measures how far each data point is from the mean. It is the average of the squared differences between each data point and the mean.\n",
        "\n",
        "\n",
        "\n",
        "### 2. **Standard Deviation**:\n",
        "   The standard deviation is the square root of the variance. It is a measure of how spread out the data points are, in the same units as the original data.\n",
        "\n",
        "   \n",
        "### When to Use:\n",
        "- **Variance** gives a broader measure of spread by using squared values, which can exaggerate the impact of outliers.\n",
        "- **Standard Deviation** is more interpretable, as it’s in the same units as the data and provides a clearer understanding of the spread around the mean.\n",
        "\n",
        "\n"
      ],
      "metadata": {
        "id": "bGjaU0_Q7uAF"
      }
    },
    {
      "cell_type": "code",
      "source": [
        "import numpy as np\n",
        "\n",
        "data = [10, 12, 23, 23, 16, 23, 21, 16, 12, 11]\n",
        "\n",
        "var = np.var(data)\n",
        "print(f\"Variance: {var}\")\n",
        "\n",
        "std_dev = np.std(data)\n",
        "print(f\"Standard Deviation: {std_dev}\")\n"
      ],
      "metadata": {
        "colab": {
          "base_uri": "https://localhost:8080/"
        },
        "id": "LCMrA7zhCpKk",
        "outputId": "0961ca4a-ff2d-4d7d-81b4-706155dcebb8"
      },
      "execution_count": 11,
      "outputs": [
        {
          "output_type": "stream",
          "name": "stdout",
          "text": [
            "Variance: 26.01\n",
            "Standard Deviation: 5.1000000000000005\n"
          ]
        }
      ]
    },
    {
      "cell_type": "markdown",
      "source": [
        "# 4. What is a box plot, and what can it tell you about the distribution of data?\n",
        "\n",
        "# What is a Box Plot and What Does It Tell You About Data Distribution?\n",
        "\n",
        "A **box plot**, also known as a **box-and-whisker plot**, is a standardized way of displaying the distribution of data based on a five-number summary:\n",
        "\n",
        "1. **Minimum**: The smallest data point excluding outliers.\n",
        "2. **First Quartile (Q1)**: The median of the lower half of the dataset (25th percentile).\n",
        "3. **Median (Q2)**: The middle value of the dataset (50th percentile).\n",
        "4. **Third Quartile (Q3)**: The median of the upper half of the dataset (75th percentile).\n",
        "5. **Maximum**: The largest data point excluding outliers.\n",
        "\n",
        "### Key Components of a Box Plot:\n",
        "\n",
        "- **Box**: Represents the interquartile range (IQR), which is the distance between the first and third quartiles (Q1 and Q3).\n",
        "- **Median Line**: A line inside the box indicating the median (Q2) of the dataset.\n",
        "- **Whiskers**: Lines extending from the box to the minimum and maximum values within 1.5 * IQR from the quartiles.\n",
        "- **Outliers**: Data points outside the whiskers, considered unusually high or low.\n",
        "\n",
        "### What Does a Box Plot Tell You?\n",
        "\n",
        "- **Central Tendency**: The median gives a measure of the data's center.\n",
        "- **Spread of Data**: The IQR indicates the variability within the middle 50% of the data.\n",
        "- **Skewness**: The symmetry of the box and whiskers shows whether the data is skewed left or right.\n",
        "- **Outliers**: Identifies data points that are significantly different from the rest.\n",
        "\n",
        "---\n",
        "\n",
        "\n"
      ],
      "metadata": {
        "id": "ibjAdaL3DHGy"
      }
    },
    {
      "cell_type": "code",
      "source": [
        "import numpy as np\n",
        "import matplotlib.pyplot as plt\n",
        "import seaborn as sns\n",
        "\n",
        "np.random.seed(42)\n",
        "data = np.random.normal(50,15, size=200)\n",
        "\n",
        "outliers = np.array([10, 100, 110])\n",
        "data_with_outliers = np.concatenate((data, outliers))\n",
        "\n",
        "plt.figure(figsize=(8,6))\n",
        "sns.boxplot(data=data_with_outliers, orient='h')\n",
        "plt.title('Box Plot of Sample Data')\n",
        "plt.xlabel('Value')\n",
        "plt.show()\n"
      ],
      "metadata": {
        "colab": {
          "base_uri": "https://localhost:8080/",
          "height": 564
        },
        "id": "uhyxDgqkEWlU",
        "outputId": "7c15bc4b-570a-415e-80bd-e04800cc9549"
      },
      "execution_count": 16,
      "outputs": [
        {
          "output_type": "display_data",
          "data": {
            "text/plain": [
              "<Figure size 800x600 with 1 Axes>"
            ],
            "image/png": "[encoded data removed]"
          },
          "metadata": {}
        }
      ]
    },
    {
      "cell_type": "markdown",
      "source": [
        "# 5. Discuss the role of random sampling in making inferences about populations.\n",
        "\n",
        "### Role of Random Sampling in Making Inferences About Populations\n",
        "\n",
        "**Random Sampling** is a statistical method used to select a subset of individuals from a larger population in such a way that every individual has an equal chance of being chosen. This approach is crucial for ensuring that the sample is representative of the population, which allows researchers to make valid inferences about the entire population based on the sample data.\n",
        "\n",
        "#### Key Points:\n",
        "1. **Representation**: Random sampling minimizes bias by ensuring that all segments of the population are represented. This helps in obtaining a more accurate picture of the population's characteristics.\n",
        "\n",
        "2. **Generalization**: Inferences made from a random sample can be generalized to the larger population, making the findings more applicable and relevant.\n",
        "\n",
        "3. **Statistical Validity**: Random sampling allows for the use of statistical methods to analyze data and test hypotheses. It enables researchers to calculate confidence intervals and margins of error, providing a measure of uncertainty around the estimates.\n",
        "\n",
        "4. **Reduces Sampling Error**: By randomly selecting individuals, researchers can reduce sampling error, which is the difference between the sample estimate and the true population parameter. A well-designed random sample leads to more reliable conclusions.\n",
        "\n",
        "5. **Facilitates Comparison**: Random sampling enables comparisons between different groups or conditions within a population, contributing to the robustness of the study's findings.\n",
        "\n",
        "In summary, random sampling is essential in the field of statistics and research, as it underpins the validity of inferences made about populations based on sample data.\n",
        "\"\"\"\n",
        "\n",
        "\n"
      ],
      "metadata": {
        "id": "RA_XMhwHHM2G"
      }
    },
    {
      "cell_type": "code",
      "source": [
        "import numpy as np\n",
        "import pandas as pd\n",
        "\n",
        "np.random.seed(42)  # For reproducibility\n",
        "population_size = 1000\n",
        "population = pd.DataFrame({\n",
        "    'Age': np.random.randint(18, 70, population_size),\n",
        "    'Income': np.random.normal(50000, 15000, population_size)\n",
        "})\n",
        "\n",
        "# Performing random sampling\n",
        "sample_size = 100\n",
        "random_sample = population.sample(sample_size)\n",
        "\n",
        "# Display the sampled data\n",
        "print(\"Random Sample:\")\n",
        "print(random_sample.head())\n",
        "\n",
        "# Calculate mean income of the sample and population\n",
        "mean_income_sample = random_sample['Income'].mean()\n",
        "mean_income_population = population['Income'].mean()\n",
        "\n",
        "print(\"\\nMean Income of Sample:\", mean_income_sample)\n",
        "print(\"Mean Income of Population:\", mean_income_population)\n"
      ],
      "metadata": {
        "colab": {
          "base_uri": "https://localhost:8080/"
        },
        "id": "uA0OqTNFJ2-u",
        "outputId": "85c12fda-b513-481e-9320-1bc29859dffe"
      },
      "execution_count": 17,
      "outputs": [
        {
          "output_type": "stream",
          "name": "stdout",
          "text": [
            "Random Sample:\n",
            "     Age        Income\n",
            "179   59  41797.115881\n",
            "391   38  39036.049401\n",
            "321   65  43065.870669\n",
            "646   48  49037.924801\n",
            "853   49  44943.710433\n",
            "\n",
            "Mean Income of Sample: 49597.64793624499\n",
            "Mean Income of Population: 50863.622304299795\n"
          ]
        }
      ]
    },
    {
      "cell_type": "markdown",
      "source": [
        "# 6. Explain the concept of skewness and its types. How does skewness affect the interpretation of data?\n",
        "\n",
        "# Define the concept of skewness and its types\n",
        "\n",
        "### Concept of Skewness\n",
        "\n",
        "**Skewness** is a statistical measure that describes the asymmetry of the probability distribution of a real-valued random variable. It indicates how much and in which direction the distribution deviates from the normal distribution (bell curve).\n",
        "\n",
        "#### Types of Skewness:\n",
        "\n",
        "1. **Positive Skew (Right Skew)**:\n",
        "   - In a positively skewed distribution, the tail on the right side is longer or fatter than the left side.\n",
        "   - The bulk of the data points (including the median and mode) are concentrated on the left.\n",
        "   - This type of skewness indicates that there are a few exceptionally high values, pulling the mean to the right.\n",
        "   - Example: Income distribution, where most people earn below average, but a few earn significantly more.\n",
        "\n",
        "2. **Negative Skew (Left Skew)**:\n",
        "   - In a negatively skewed distribution, the tail on the left side is longer or fatter than the right side.\n",
        "   - The bulk of the data points are concentrated on the right.\n",
        "   - This indicates that there are a few exceptionally low values, pulling the mean to the left.\n",
        "   - Example: Age at retirement, where most people retire at a certain age, but a few retire much earlier.\n",
        "\n",
        "3. **No Skew (Symmetrical Distribution)**:\n",
        "   - A symmetrical distribution has no skewness, meaning that the left and right sides are mirror images.\n",
        "   - In this case, the mean, median, and mode are all equal.\n",
        "   - Example: The distribution of heights in a large population often resembles a normal distribution.\n",
        "\n",
        "#### Effects of Skewness on Data Interpretation:\n",
        "\n",
        "1. **Influence on Central Tendency**:\n",
        "   - Skewness affects the relationship between the mean, median, and mode. In a positively skewed distribution, the mean is greater than the median, which is greater than the mode. Conversely, in a negatively skewed distribution, the mean is less than the median, which is less than the mode.\n",
        "   - Understanding this relationship helps in accurately interpreting central tendency measures.\n",
        "\n",
        "2. **Implications for Statistical Analysis**:\n",
        "   - Many statistical tests assume normality. When data is skewed, the results of these tests may not be valid, leading to incorrect conclusions.\n",
        "   - It may be necessary to transform the data (e.g., using log or square root transformations) to reduce skewness before applying statistical methods.\n",
        "\n",
        "3. **Understanding Variability**:\n",
        "   - Skewness provides insights into the distribution of data, helping identify potential outliers and the spread of values. It can influence decisions in fields such as finance, quality control, and social sciences.\n",
        "\n",
        "In summary, skewness is a vital concept in statistics that affects data interpretation, the relationship between central tendency measures, and the appropriateness of statistical analysis methods.\n",
        "\"\"\"\n",
        "\n",
        "\n"
      ],
      "metadata": {
        "id": "6P_ieV4lKtw5"
      }
    },
    {
      "cell_type": "markdown",
      "source": [
        "# 7. What is the interquartile range (IQR), and how is it used to detect outliers?\n",
        "\n",
        "\n",
        "### Interquartile Range (IQR)\n",
        "\n",
        "The **Interquartile Range (IQR)** is a measure of statistical dispersion, representing the range within which the middle 50% of a dataset falls. It is calculated as the difference between the third quartile (Q3) and the first quartile (Q1):\n",
        "\n",
        "**IQR = Q3 - Q1**\n",
        "\n",
        "\n",
        "Where:\n",
        "- **Q1** (First Quartile) is the median of the first half of the data (25th percentile).\n",
        "- **Q3** (Third Quartile) is the median of the second half of the data (75th percentile).\n",
        "\n",
        "### Use of IQR to Detect Outliers\n",
        "\n",
        "Outliers are data points that significantly differ from other observations in a dataset. The IQR is used to identify these outliers through the following method:\n",
        "\n",
        "1. **Calculate the IQR**:\n",
        "   - Determine Q1 and Q3, and compute the IQR.\n",
        "\n",
        "2. **Determine the Outlier Boundaries**:\n",
        "   - Calculate the lower and upper boundaries for identifying outliers:\n",
        "   \n",
        "   Lower Bound = Q1 - 1.5 (IQR)\n",
        "\n",
        "   Upper Bound = Q3 + 1.5 (IQR)\n",
        "   \n",
        "3. **Identify Outliers**:\n",
        "   - Any data point below the lower bound or above the upper bound is considered an outlier.\n",
        "\n",
        "### Example\n",
        "\n",
        "For instance, if we have the following dataset: [12, 15, 14, 10, 22, 29, 30, 32, 100], we can calculate the IQR and use it to detect outliers.\n",
        "\n",
        "#### Summary\n",
        "\n",
        "The IQR is a robust measure of variability that helps to detect outliers by identifying data points that fall significantly outside the range of the central 50% of the data. This makes it a valuable tool in statistical analysis, ensuring that the presence of extreme values does not skew the results.\n",
        "\n",
        "\n",
        "\n"
      ],
      "metadata": {
        "id": "2sJF0PbDMAaQ"
      }
    },
    {
      "cell_type": "markdown",
      "source": [
        "# 8. Discuss the conditions under which the binomial distribution is used.\n",
        "\n",
        "### Conditions for Using the Binomial Distribution\n",
        "\n",
        "The **binomial distribution** is a discrete probability distribution that models the number of successes in a fixed number of independent Bernoulli trials (experiments with two possible outcomes: success or failure). For the binomial distribution to be applicable, the following conditions must be met:\n",
        "\n",
        "1. **Fixed Number of Trials (n)**:\n",
        "   - The experiment is conducted a specific number of times, denoted as \\( n \\). Each trial must be independent of others.\n",
        "\n",
        "2. **Two Possible Outcomes**:\n",
        "   - Each trial results in one of two outcomes: typically labeled as \"success\" (e.g., a coin landing heads) and \"failure\" (e.g., a coin landing tails).\n",
        "\n",
        "3. **Constant Probability of Success (p)**:\n",
        "   - The probability of success \\( p \\) remains constant for each trial. This means that the chance of success does not change from one trial to another.\n",
        "\n",
        "4. **Independent Trials**:\n",
        "   - The trials must be independent; the outcome of one trial should not influence the outcome of another. For example, flipping a coin multiple times does not affect the previous flips.\n",
        "\n",
        "### Example\n",
        "\n",
        "A classic example of a binomial distribution is flipping a fair coin multiple times. If you flip the coin \\( n = 10 \\) times, where the probability of landing heads (success) is \\( p = 0.5 \\), you can use the binomial distribution to determine the probability of getting a certain number of heads.\n",
        "\n",
        "### Summary\n",
        "\n",
        "The binomial distribution is used when you have a fixed number of independent trials, each with two possible outcomes, a constant probability of success, and trials that do not affect each other. Understanding these conditions helps ensure the proper application of the binomial model in statistical analysis.\n",
        "\n",
        "\n",
        "\n"
      ],
      "metadata": {
        "id": "j5HvxcVqNhND"
      }
    },
    {
      "cell_type": "code",
      "source": [
        "# Import necessary libraries\n",
        "import numpy as np\n",
        "import matplotlib.pyplot as plt\n",
        "from scipy.stats import binom\n",
        "\n",
        "# Parameters\n",
        "n = 10  # Number of trials (coin flips)\n",
        "p = 0.5  # Probability of success (getting heads)\n",
        "\n",
        "# Generate an array of possible number of successes (0 to n)\n",
        "x = np.arange(0, n + 1)\n",
        "\n",
        "# Calculate the probability mass function (PMF) for each number of successes\n",
        "pmf = binom.pmf(x, n, p)\n",
        "\n",
        "# Display the results\n",
        "print(\"Number of Heads (k):\", x)\n",
        "print(\"Probability of k Heads (P(X=k)):\", pmf)\n",
        "\n",
        "# Plot the binomial distribution\n",
        "plt.bar(x, pmf, color='skyblue')\n",
        "plt.title(f'Binomial Distribution PMF\\nn={n}, p={p}')\n",
        "plt.xlabel('Number of Heads (k)')\n",
        "plt.ylabel('Probability P(X=k)')\n",
        "plt.xticks(x)\n",
        "plt.grid(axis='y', linestyle='--', alpha=0.7)\n",
        "plt.show()\n"
      ],
      "metadata": {
        "colab": {
          "base_uri": "https://localhost:8080/",
          "height": 547
        },
        "id": "ceGGUafNOwOw",
        "outputId": "fa616e8a-a444-401d-d91a-f2d727294044"
      },
      "execution_count": 18,
      "outputs": [
        {
          "output_type": "stream",
          "name": "stdout",
          "text": [
            "Number of Heads (k): [ 0  1  2  3  4  5  6  7  8  9 10]\n",
            "Probability of k Heads (P(X=k)): [0.00097656 0.00976563 0.04394531 0.1171875  0.20507812 0.24609375\n",
            " 0.20507812 0.1171875  0.04394531 0.00976563 0.00097656]\n"
          ]
        },
        {
          "output_type": "display_data",
          "data": {
            "text/plain": [
              "<Figure size 640x480 with 1 Axes>"
            ],
            "image/png": "[encoded data removed]"
          },
          "metadata": {}
        }
      ]
    },
    {
      "cell_type": "markdown",
      "source": [
        "# 9. Explain the properties of the normal distribution and the empirical rule (68-95-99.7 rule).\n",
        "\n",
        "\n",
        "### Properties of the Normal Distribution\n",
        "\n",
        "The **normal distribution**, also known as the Gaussian distribution, is a continuous probability distribution characterized by its bell-shaped curve. Here are some key properties:\n",
        "\n",
        "1. **Symmetry**:\n",
        "   - The normal distribution is symmetric around its mean. This means the left half of the distribution mirrors the right half.\n",
        "\n",
        "2. **Mean, Median, and Mode**:\n",
        "   - In a normal distribution, the mean, median, and mode are all equal and located at the center of the distribution.\n",
        "\n",
        "3. **Asymptotic**:\n",
        "   - The tails of the normal distribution approach the horizontal axis but never actually touch it. This means that there is a non-zero probability for extreme values.\n",
        "\n",
        "4. **Defined by Two Parameters**:\n",
        "   - The normal distribution is completely described by its mean (mu) and standard deviation (sigma). The mean indicates the center, and the standard deviation indicates the spread of the data.\n",
        "\n",
        "5. **Total Area Under the Curve**:\n",
        "   - The total area under the curve of a normal distribution is equal to 1, representing the total probability.\n",
        "\n",
        "### The Empirical Rule (68-95-99.7 Rule)\n",
        "\n",
        "The empirical rule, also known as the **68-95-99.7 rule**, states that for a normal distribution:\n",
        "\n",
        "- **68%** of the data falls within **1 standard deviation** of the mean (mu & 1 sigma \\).\n",
        "- **95%** of the data falls within **2 standard deviations** of the mean (mu & 2 sigma \\)..\n",
        "- **99.7%** of the data falls within **3 standard deviations** of the mean (mu & 3 sigma ).\n",
        "\n",
        "This rule provides a quick way to understand the distribution of data and is especially useful in statistics for making inferences about populations.\n",
        "\n",
        "### Visualization\n",
        "\n",
        "To visualize this, consider a normal distribution curve where the areas under the curve represent the percentages of data falling within the specified standard deviations from the mean.\n",
        "\n",
        "\n",
        "\n"
      ],
      "metadata": {
        "id": "vR8wX2NiPi1X"
      }
    },
    {
      "cell_type": "markdown",
      "source": [
        "# 10. Define the explanation of the Poisson process and its probability calculation\n",
        "\n",
        "### Poisson Process\n",
        "\n",
        "A **Poisson process** is a statistical process that models the occurrence of events in a fixed interval of time or space, where these events happen independently of each other. The key characteristics of a Poisson process are:\n",
        "\n",
        "1. **Independent Events**: The occurrence of one event does not affect the occurrence of another.\n",
        "2. **Constant Average Rate**: The average number of events (lambda) occurs in a fixed interval.\n",
        "3. **Discrete Events**: The events are counted as discrete occurrences.\n",
        "\n",
        "The **Poisson distribution** is used to calculate the probability of observing a specific number of events in a given time frame. The probability of observing \\( k \\) events when the average rate is \\( lambda ) is given by the formula:\n",
        "\n",
        "\n",
        "$$\n",
        "P(X = k) = \\frac{\\lambda^k e^{-\\lambda}}{k!}\n",
        "$$\n",
        "\n",
        "Where:\n",
        "- \\( P(X = k) \\) is the probability of observing \\( k \\) events.\n",
        "- \\( lambda \\) is the average number of events in the interval.\n",
        "- \\( e \\) is Euler's number (approximately 2.71828).\n",
        "- \\( k \\) is the number of occurrences of the event.\n",
        "\n",
        "\n"
      ],
      "metadata": {
        "id": "1JAKGKGVRxVw"
      }
    },
    {
      "cell_type": "code",
      "source": [
        "# Let's calculate the probability of observing exactly 5 cars passing through a toll booth in an hour, given that the average rate (lambda ) is 10 cars per hour.\n",
        "\n",
        "import numpy as np\n",
        "from scipy.stats import poisson\n",
        "\n",
        "lambda_rate = 10  # average number of cars passing per hour\n",
        "k = 5  # number of cars we want to find the probability for\n",
        "\n",
        "# Calculate the probability using Poisson PMF\n",
        "probability = poisson.pmf(k, lambda_rate)\n",
        "\n",
        "# Display the result\n",
        "print(f\"The probability of observing exactly {k} cars passing through the toll booth in an hour is: {probability:.4f}\")\n"
      ],
      "metadata": {
        "colab": {
          "base_uri": "https://localhost:8080/"
        },
        "id": "s33H8MwBR3Ua",
        "outputId": "88db71cd-de21-4873-b5b6-d28dc90c7691"
      },
      "execution_count": 21,
      "outputs": [
        {
          "output_type": "stream",
          "name": "stdout",
          "text": [
            "The probability of observing exactly 5 cars passing through the toll booth in an hour is: 0.0378\n"
          ]
        }
      ]
    },
    {
      "cell_type": "markdown",
      "source": [
        "# 11. Explain what a random variable is and differentiate between discrete and continuous random variables\n",
        "\n",
        "## Random Variables\n",
        "\n",
        "A **random variable** is a numerical outcome of a random phenomenon. It assigns a number to each possible outcome of a random experiment, allowing for the quantification and analysis of uncertainty.\n",
        "\n",
        "Random variables can be classified into two main types:\n",
        "\n",
        "### 1. Discrete Random Variables\n",
        "A **discrete random variable** is one that takes on a countable number of distinct values. These values can be finite or infinite but are not continuous. Discrete random variables often represent counts of items or events.\n",
        "\n",
        "**Example**:\n",
        "- The number of heads when flipping a coin three times can be 0, 1, 2, or 3.\n",
        "- The number of students in a classroom is also a discrete random variable.\n",
        "\n",
        "### 2. Continuous Random Variables\n",
        "A **continuous random variable**, on the other hand, can take on an infinite number of values within a given range. These variables are not countable and can represent measurements. Continuous random variables often involve intervals or real numbers.\n",
        "\n",
        "**Example**:\n",
        "- The height of students in a classroom can range from, say, 150 cm to 200 cm and can take any value within that range.\n",
        "- The time it takes for a runner to complete a marathon is also a continuous random variable.\n",
        "\n",
        "### Summary\n",
        "In summary, the key difference between discrete and continuous random variables lies in the type of values they can take. Discrete random variables are countable, while continuous random variables can take any value within a range.\n"
      ],
      "metadata": {
        "id": "hYTflILTVJ4j"
      }
    },
    {
      "cell_type": "markdown",
      "source": [
        "# 12. Provide an example dataset, calculate both covariance and correlation, and interpret the results\n",
        "\n",
        "\n",
        " we will calculate the covariance and correlation between the \"Study Hours\" and \"Scores\".\n",
        "\n",
        "\n"
      ],
      "metadata": {
        "id": "qaN-Xr5TacIc"
      }
    },
    {
      "cell_type": "code",
      "source": [
        "import numpy as np\n",
        "import pandas as pd\n",
        "\n",
        "data = {\n",
        "    'Study Hours': [2, 3, 5, 8, 10],\n",
        "    'Scores': [50, 60, 80, 90, 95]\n",
        "}\n",
        "\n",
        "\n",
        "df = pd.DataFrame(data)\n",
        "\n",
        "covariance = np.cov(df['Study Hours'], df['Scores'])[0][1]\n",
        "\n",
        "correlation = np.corrcoef(df['Study Hours'], df['Scores'])[0][1]\n",
        "\n",
        "covariance, correlation"
      ],
      "metadata": {
        "colab": {
          "base_uri": "https://localhost:8080/"
        },
        "id": "mwRgdxg-auUj",
        "outputId": "c3acae94-8888-4770-cad8-ae00d231a403"
      },
      "execution_count": 26,
      "outputs": [
        {
          "output_type": "execute_result",
          "data": {
            "text/plain": [
              "(62.49999999999999, 0.9601192158032107)"
            ]
          },
          "metadata": {},
          "execution_count": 26
        }
      ]
    }
  ]
}